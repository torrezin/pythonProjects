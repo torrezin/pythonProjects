{
 "cells": [
  {
   "cell_type": "code",
   "execution_count": 26,
   "metadata": {},
   "outputs": [],
   "source": [
    "import pandas as pd\n",
    "import numpy as np\n",
    "import matplotlib.pyplot as pl\n",
    "import seaborn as sb\n",
    "import matplotlib.style\n",
    "import matplotlib as mpl\n",
    "import matplotlib.pyplot as plt\n",
    "import seaborn as sns\n",
    "import matplotlib.pyplot as plt\n",
    "#from IPython.core.display import display, H\n",
    "#TML\n",
    "#display(HTML(\"<style>.container { width:95% !important; }</style>\"))\n",
    "#plt.rcParams['figure.figsize'] = [26, 8]\n",
    "pd.set_option('display.max_rows', 500)\n",
    "pd.set_option('display.max_columns', 500)\n",
    "pd.set_option('display.width', 1000)\n",
    "import warnings\n",
    "warnings.filterwarnings(\"ignore\")\n",
    "\n",
    "%matplotlib inline"
   ]
  },
  {
   "cell_type": "code",
   "execution_count": 27,
   "metadata": {},
   "outputs": [],
   "source": [
    "df = pd.read_csv('/home/wdnfywaa/Desktop/tiagoFDP/Dados-AC.csv',encoding='utf8')"
   ]
  },
  {
   "cell_type": "code",
   "execution_count": 25,
   "metadata": {},
   "outputs": [
    {
     "ename": "SyntaxError",
     "evalue": "unexpected EOF while parsing (<ipython-input-25-5feb994b63ec>, line 18)",
     "output_type": "error",
     "traceback": [
      "\u001b[0;36m  File \u001b[0;32m\"<ipython-input-25-5feb994b63ec>\"\u001b[0;36m, line \u001b[0;32m18\u001b[0m\n\u001b[0;31m    #municipios\u001b[0m\n\u001b[0m               ^\u001b[0m\n\u001b[0;31mSyntaxError\u001b[0m\u001b[0;31m:\u001b[0m unexpected EOF while parsing\n"
     ]
    }
   ],
   "source": [
    "#df['n_co_municipio_ibge_ocorrencia']\n",
    "\n",
    "\n",
    "municipios = df.groupby('n_co_municipio_ibge_ocorrencia')['n_co_municipio_ibge_ocorrencia'].count()\n",
    "\n",
    "#municipios.loc[municipios.n_co_municipio_ibge_ocorrencia == 'M','n_sg_sexo'] = 1\n",
    "\n",
    "codigos = [1, 1200013, 1200054, 1200104, 1200138, 1200179, 1200203,\n",
    "       1200252, 1200302, 1200328, 1200336, 1200344, 1200351, 1200385,\n",
    "       1200393, 1200401, 1200427, 1200435, 1200450, 1200500, 1200609,\n",
    "       1200708, 1200807]\n",
    "#paises = \n",
    "\n",
    "\n",
    "for i in range(1,len(codigos)):\n",
    "    #print(i)\n",
    "\n",
    "#municipios"
   ]
  },
  {
   "cell_type": "code",
   "execution_count": null,
   "metadata": {},
   "outputs": [],
   "source": [
    "df.shape\n"
   ]
  },
  {
   "cell_type": "code",
   "execution_count": null,
   "metadata": {},
   "outputs": [],
   "source": [
    "#sns.heatmap(df.isnull())"
   ]
  },
  {
   "cell_type": "code",
   "execution_count": 9,
   "metadata": {},
   "outputs": [],
   "source": [
    "values = df.groupby('morte_menor_28d')['morte_menor_28d'].count()\n",
    "n_samples = df.shape[0]"
   ]
  },
  {
   "cell_type": "code",
   "execution_count": null,
   "metadata": {},
   "outputs": [],
   "source": [
    "df_death['date_death'] = df_death['date_death'].astype('Int64')\n",
    "df_death['day_death'] = df_death['day_death'].astype('Int64')\n",
    "df_death['month_death'] = df_death['month_death'].astype('Int64')\n",
    "df_death['year_death'] = df_death['year_death'].astype('Int64')\n",
    "\n",
    "df_death['days_until_death'] = (df_death['day_death'] - df_death['day_birth'])\n",
    "df_death['days_until_death'] = df_death['days_until_death'].astype('Int64')\n",
    "df_death.dtypes"
   ]
  },
  {
   "cell_type": "code",
   "execution_count": 40,
   "metadata": {},
   "outputs": [],
   "source": [
    "df_teste = df[:]"
   ]
  },
  {
   "cell_type": "code",
   "execution_count": 41,
   "metadata": {
    "scrolled": true
   },
   "outputs": [],
   "source": [
    "df_morteNeonatal=df_teste[:]\n",
    "df_morteNeonatal['year_death'] = df_morteNeonatal['year_death'].astype('Int64')\n",
    "df_morteNeonatal=df_morteNeonatal[df_morteNeonatal[\"morte_menor_28d\"] == 1]\n",
    "\n",
    "df_morteNeonatal.loc[df_morteNeonatal.n_sg_sexo == 'M','n_sg_sexo'] = 1\n",
    "df_morteNeonatal.loc[df_morteNeonatal.n_sg_sexo == 'F','n_sg_sexo'] = 2\n",
    "df_morteNeonatal['n_sg_sexo']=df_morteNeonatal['n_sg_sexo'].astype(int)\n",
    "\n",
    "########################################## Linha Linha#########################\n",
    "#i=1\n",
    "#for index, row in df_morteNeonatal.iterrows():\n",
    "#    #print (row['n_sg_sexo'])\n",
    "#    if row['n_sg_sexo']=='2':\n",
    "#        #row['n_sg_sexo'].dtype\n",
    "#       row['n_sg_sexo']=int(row['n_sg_sexo'])\n",
    "#       print(i)\n",
    "#       i=i+1\n",
    "########################################## Linha Linha#########################\n",
    "##  Crianças que morreram antes dos 28 dias de vida\n",
    "#df_morteNeonatal=df_morteNeonatal[df_morteNeonatal[\"n_sg_sexo\"] == 1]##Homens\n",
    "#df_morteNeonatal=df_morteNeonatal[df_morteNeonatal[\"n_tp_raca_cor_mae\"]==4]##Parda\n",
    "#df_morteNeonatal=df_morteNeonatal[df_morteNeonatal[\"n_tp_ocorrencia\"]==1]##Residencia\n",
    "#df_morteNeonatal=df_morteNeonatal[df_morteNeonatal[\"n_tp_parto\"]==2]##Parto normal\n",
    "#df_morteNeonatal=df_morteNeonatal[df_morteNeonatal[\"year_death\"]==2006]##Ano de morte\n",
    "\n",
    "#df_morteNeonatal.count()\n",
    "                                \n",
    "t=df_morteNeonatal.groupby('n_tp_raca_cor_mae')['n_tp_raca_cor_mae'].count()\n",
    "#t=df_morteNeonatal.year_death.unique()\n",
    "#type(t.index)\n",
    "\n",
    "tt=list(t.index)\n",
    "\n",
    "#tt\n"
   ]
  },
  {
   "cell_type": "code",
   "execution_count": 20,
   "metadata": {},
   "outputs": [
    {
     "data": {
      "text/plain": [
       "Index(['id', 'n_tp_ocorrencia', 'n_co_municipio_ibge_ocorrencia', 'n_nu_idade', 'n_tp_estado_civil', 'n_tp_escolaridade', 'n_qt_nascidos_vivos', 'n_qt_nascidos_mortos', 'n_co_municipio_ibge_residencia', 'n_tp_gestacao', 'n_tp_gravidez', 'n_tp_parto', 'n_tp_prenatal', 'n_dt_nascimento', 'n_sg_sexo', 'n_nu_apgar1', 'n_nu_apgar5', 'n_tp_raca_cor', 'n_nu_peso', 'n_co_cid', 'n_st_malformacao', 'n_co_bairro_ocorrencia', 'n_co_bairro_residencia', 'n_tp_raca_cor_mae', 'n_qt_gestacao_anterior', 'n_qt_parto_normal', 'n_qt_parto_cesaria', 'n_tp_metodo_estimar', 'n_tp_apresentacao', 'n_st_trabalho_parto', 'n_st_cesarea_parto', 'n_tp_grupo_robson', 'n_tp_nascimento_assistido', 'n_tp_funcao_responsavel', 'morte_menor_28d', 'date_death', 'day_birth', 'month_birth', 'year_birth', 'day_death', 'month_death', 'year_death', 'n_ct_peso', 'n_ct_idade', 'n_ct_nascidos_vivos', 'n_ct_nascidos_mortos', 'n_ct_gestacao_anterior', 'n_ct_parto_normal', 'n_ct_parto_cesaria', 'n_ct_apgar1', 'n_ct_apgar5'], dtype='object')"
      ]
     },
     "execution_count": 20,
     "metadata": {},
     "output_type": "execute_result"
    }
   ],
   "source": [
    "df_morteNeonatal.columns"
   ]
  },
  {
   "cell_type": "code",
   "execution_count": 23,
   "metadata": {},
   "outputs": [
    {
     "data": {
      "text/plain": [
       "array([1, 3, 2, 4])"
      ]
     },
     "execution_count": 23,
     "metadata": {},
     "output_type": "execute_result"
    }
   ],
   "source": [
    "available_indicators = df_morteNeonatal['n_tp_ocorrencia'].unique()\n",
    "available_indicators"
   ]
  },
  {
   "cell_type": "code",
   "execution_count": 76,
   "metadata": {},
   "outputs": [
    {
     "data": {
      "text/plain": [
       "RangeIndex(start=0, stop=153861, step=1)"
      ]
     },
     "execution_count": 76,
     "metadata": {},
     "output_type": "execute_result"
    }
   ],
   "source": [
    "teste=df['n_nu_peso'].index\n",
    "teste"
   ]
  },
  {
   "cell_type": "code",
   "execution_count": null,
   "metadata": {},
   "outputs": [],
   "source": []
  },
  {
   "cell_type": "code",
   "execution_count": null,
   "metadata": {},
   "outputs": [],
   "source": []
  },
  {
   "cell_type": "code",
   "execution_count": null,
   "metadata": {},
   "outputs": [],
   "source": []
  },
  {
   "cell_type": "code",
   "execution_count": null,
   "metadata": {},
   "outputs": [],
   "source": [
    "df_2006.head()"
   ]
  },
  {
   "cell_type": "code",
   "execution_count": 44,
   "metadata": {},
   "outputs": [],
   "source": [
    "values_2006 = df_2006.shape[0]"
   ]
  },
  {
   "cell_type": "code",
   "execution_count": 45,
   "metadata": {},
   "outputs": [
    {
     "data": {
      "text/plain": [
       "33"
      ]
     },
     "execution_count": 45,
     "metadata": {},
     "output_type": "execute_result"
    }
   ],
   "source": [
    "values_2006"
   ]
  },
  {
   "cell_type": "code",
   "execution_count": 66,
   "metadata": {},
   "outputs": [
    {
     "data": {
      "text/plain": [
       "array([1550, 2080, 3820, 2685, 4265, 2700, 1010, 1100, 1400, 1560, 3055,\n",
       "        915, 2235, 3155, 2505, 3380, 1450, 3700, 1050, 2100, 2000, 3110,\n",
       "       1335, 3510, 1005, 3340, 2225, 2975, 3090, 3420, 1020, 3085, 2900,\n",
       "       1020, 2990, 2750, 3100, 1350, 2800, 2250, 2500, 3500, 4150, 2660,\n",
       "       2830, 4250, 2500, 2600, 1100, 2900, 1930, 1930, 1800, 4240, 1500,\n",
       "       1600, 3250, 1550, 1400, 2025, 2120, 4000, 2950, 1670,  480, 1000,\n",
       "       1500, 1200,  750,  500,  600,  790,  400, 2850, 3320, 2470, 2400,\n",
       "       1700, 1400, 2700,  340, 3000, 2745, 3560, 2850, 1800, 3750,  800,\n",
       "        750, 2600, 1050, 3540, 1700, 4070,  470, 1730, 3700, 2760, 1700,\n",
       "        950, 2000, 3900, 1800, 3710, 1000, 2950, 2800, 2500, 1250, 3390,\n",
       "       3720, 1400, 2450, 1250, 2150, 1035, 3750, 2000, 1945, 1030, 1880,\n",
       "       1800, 1300, 4650, 1300, 1665,  650, 1900, 1870,  790, 1740, 3254,\n",
       "       1240, 1580, 2900,  556,  760, 1307, 1742,  458, 3335,  645, 2300,\n",
       "        630, 1600, 3480, 4300, 1470,  500,  535, 2622, 3155,  660, 1310,\n",
       "       2180, 2230, 2400, 1655, 1420, 2788,  700, 1255,  598,  695,  550,\n",
       "       1060,  598, 1280, 2850, 2652, 3085,  690, 1596, 2564, 1600, 2500,\n",
       "       1000,  760,  700, 2080,  705,  860, 1264, 2750,  522,  692,  500,\n",
       "       2250,  490,  700, 3300, 1770,  600, 2680, 1292,  708, 1660, 1720,\n",
       "        891,  909, 2765,  678, 3425, 3345, 1200, 3665, 2115,  562,  550,\n",
       "       1310,  604,  585, 1354, 1385,  800, 1645,  530, 1079, 1003, 2686,\n",
       "        830, 2585,  750, 1760,  614,  820, 3298,  725, 2804,  818, 3110,\n",
       "       3300,  810, 3740, 1970,  773,  508, 2968, 2410,  896,  720, 2240,\n",
       "       1910, 3366, 2645, 3665, 1392, 3065,  734, 3610,  807, 1388, 3290,\n",
       "       3310, 4236, 2870,  570, 1578, 2285, 1200,  570, 3160, 2700, 3600,\n",
       "       4900, 3750, 3350, 4550, 2280, 3520, 3222, 2630, 2700, 3526, 3365,\n",
       "       3222, 2270, 3150, 3450,  600, 3200,  600,  760, 2495,  770, 2860,\n",
       "        650, 1690,  600, 3574, 1316, 3525, 2290, 2580, 1376, 2375, 1126,\n",
       "       4476, 3700, 1800, 1412, 1285,  930,  522, 3705,  560, 3100, 2150,\n",
       "       3600, 1700,  970,  930, 2886, 2400, 2008,  880, 1580, 3330, 1510,\n",
       "        650, 1155, 1470, 2964, 1600, 2540, 3650, 2150, 2610, 3000, 1220,\n",
       "       3176, 1230,  805, 1525,  780, 1260, 2752, 2785,  730, 2710,  950,\n",
       "       2680, 1068, 2245, 1590, 3310, 2450,  560,  610, 1110, 3290, 4084,\n",
       "       1908, 5500, 1730, 2750, 2970, 1760, 1860,  560, 3850,  700, 3220,\n",
       "       2160, 2044, 3222, 1342, 1000, 2195,  650, 1750, 2000, 2805, 2120,\n",
       "        950,  622, 1950, 1900])"
      ]
     },
     "execution_count": 66,
     "metadata": {},
     "output_type": "execute_result"
    }
   ],
   "source": [
    "df_morteNeonatal=df_teste[:]\n",
    "\n",
    "\n",
    "df_morteNeonatal['year_death'] = df_morteNeonatal['year_death'].astype('Int64')\n",
    "df_morteNeonatal=df_morteNeonatal[df_morteNeonatal[\"morte_menor_28d\"] == 1]\n",
    "\n",
    "df_morteNeonatal.loc[df_morteNeonatal.n_sg_sexo == 'M','n_sg_sexo'] = 1\n",
    "df_morteNeonatal.loc[df_morteNeonatal.n_sg_sexo == 'F','n_sg_sexo'] = 2\n",
    "df_morteNeonatal['n_sg_sexo']=df_morteNeonatal['n_sg_sexo'].astype(int)\n",
    "menor_ano=df_morteNeonatal['year_death'].min()\n",
    "\n",
    "\n",
    "dataframe_original=df_morteNeonatal[df_morteNeonatal['year_death']==2006]\n",
    "aux_homem_final = dataframe_original[dataframe_original['n_sg_sexo']==1]\n",
    "\n",
    "\n",
    "\n",
    "\n",
    "\n",
    "\n",
    "\n",
    "\n",
    "\n",
    "\n",
    "\n",
    "teste_order=df_morteNeonatal.sort_values(by=['n_nu_peso'])\n",
    "\n",
    "df_morteNeonatal['n_nu_peso'].values\n",
    "\n"
   ]
  },
  {
   "cell_type": "code",
   "execution_count": 228,
   "metadata": {},
   "outputs": [],
   "source": [
    "lista_ordenada=list(teste_order['n_nu_peso'].values)\n",
    "lista_ordenada.insert(0,0)\n",
    "lista_ordenada.insert(0,0)\n",
    "\n",
    "\n",
    "matriz_pesos=np.zeros((10,38))\n",
    "aux=0\n",
    "cont = 0\n",
    "aux2=38\n",
    "aux3=1\n",
    "\n",
    "for y in range(0,10):\n",
    "    l_teste=[]\n",
    "    for j in range(aux,aux2):\n",
    "        #print(\"Elemento adicionado = \"+str(lista_ordenada[j]))\n",
    "        #print(\"posicao da lista = \"+str(j))\n",
    "        #print(\"cont \"+str(cont))\n",
    "        #print(\"Aux = \"+str(aux))\n",
    "        aux=j\n",
    "        l_teste.append(lista_ordenada[j])\n",
    "        \n",
    "    for tamanho in range(0,len(l_teste)):\n",
    "        matriz_pesos[cont][tamanho]=int(l_teste[tamanho])\n",
    "    l_teste=[]\n",
    "\n",
    "    j=aux+1\n",
    "    aux=aux+1\n",
    "    cont=cont+1\n",
    "    aux3=aux3+1\n",
    "    aux2=aux3*38\n",
    "    \n",
    "\n",
    "\n",
    "\n",
    "\n"
   ]
  },
  {
   "cell_type": "code",
   "execution_count": 230,
   "metadata": {},
   "outputs": [
    {
     "data": {
      "text/plain": [
       "0.0"
      ]
     },
     "execution_count": 230,
     "metadata": {},
     "output_type": "execute_result"
    }
   ],
   "source": [
    "\n",
    "#for row in matriz_pesos:\n",
    "#     print(row)\n",
    "\n",
    "matriz_pesos[0].min()\n"
   ]
  },
  {
   "cell_type": "markdown",
   "metadata": {},
   "source": []
  }
 ],
 "metadata": {
  "kernelspec": {
   "display_name": "Python 3",
   "language": "python",
   "name": "python3"
  },
  "language_info": {
   "codemirror_mode": {
    "name": "ipython",
    "version": 3
   },
   "file_extension": ".py",
   "mimetype": "text/x-python",
   "name": "python",
   "nbconvert_exporter": "python",
   "pygments_lexer": "ipython3",
   "version": "3.6.9"
  }
 },
 "nbformat": 4,
 "nbformat_minor": 2
}
