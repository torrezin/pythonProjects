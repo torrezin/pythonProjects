{
 "cells": [
  {
   "cell_type": "code",
   "execution_count": 3,
   "metadata": {},
   "outputs": [],
   "source": [
    "import pandas as pd\n",
    "import numpy as np\n",
    "import matplotlib.pyplot as pl\n",
    "import seaborn as sb\n",
    "import matplotlib.style\n",
    "import matplotlib as mpl\n",
    "import matplotlib.pyplot as plt\n",
    "import seaborn as sns\n",
    "import matplotlib.pyplot as plt\n",
    "#from IPython.core.display import display, H\n",
    "#TML\n",
    "#display(HTML(\"<style>.container { width:95% !important; }</style>\"))\n",
    "#plt.rcParams['figure.figsize'] = [26, 8]\n",
    "pd.set_option('display.max_rows', 500)\n",
    "pd.set_option('display.max_columns', 500)\n",
    "pd.set_option('display.width', 1000)\n",
    "import warnings\n",
    "warnings.filterwarnings(\"ignore\")\n",
    "\n",
    "%matplotlib inline"
   ]
  },
  {
   "cell_type": "code",
   "execution_count": 4,
   "metadata": {},
   "outputs": [],
   "source": [
    "df = pd.read_csv('/home/wdnfywaa/Desktop/tiagoFDP/Dados-AC.csv',encoding='utf8')"
   ]
  },
  {
   "cell_type": "code",
   "execution_count": null,
   "metadata": {},
   "outputs": [],
   "source": [
    "df.head()"
   ]
  },
  {
   "cell_type": "code",
   "execution_count": null,
   "metadata": {},
   "outputs": [],
   "source": [
    "df.shape"
   ]
  },
  {
   "cell_type": "code",
   "execution_count": null,
   "metadata": {},
   "outputs": [],
   "source": [
    "#sns.heatmap(df.isnull())"
   ]
  },
  {
   "cell_type": "code",
   "execution_count": 9,
   "metadata": {},
   "outputs": [],
   "source": [
    "values = df.groupby('morte_menor_28d')['morte_menor_28d'].count()\n",
    "n_samples = df.shape[0]"
   ]
  },
  {
   "cell_type": "code",
   "execution_count": null,
   "metadata": {},
   "outputs": [],
   "source": [
    "df_death['date_death'] = df_death['date_death'].astype('Int64')\n",
    "df_death['day_death'] = df_death['day_death'].astype('Int64')\n",
    "df_death['month_death'] = df_death['month_death'].astype('Int64')\n",
    "df_death['year_death'] = df_death['year_death'].astype('Int64')\n",
    "\n",
    "df_death['days_until_death'] = (df_death['day_death'] - df_death['day_birth'])\n",
    "df_death['days_until_death'] = df_death['days_until_death'].astype('Int64')\n",
    "df_death.dtypes"
   ]
  },
  {
   "cell_type": "code",
   "execution_count": 18,
   "metadata": {},
   "outputs": [],
   "source": [
    "df_teste = df[:]"
   ]
  },
  {
   "cell_type": "code",
   "execution_count": 26,
   "metadata": {
    "scrolled": true
   },
   "outputs": [
    {
     "data": {
      "text/plain": [
       "[1, 2, 3, 4, 5]"
      ]
     },
     "execution_count": 26,
     "metadata": {},
     "output_type": "execute_result"
    }
   ],
   "source": [
    "df_morteNeonatal=df_teste[:]\n",
    "df_morteNeonatal['year_death'] = df_morteNeonatal['year_death'].astype('Int64')\n",
    "df_morteNeonatal=df_morteNeonatal[df_morteNeonatal[\"morte_menor_28d\"] == 1]\n",
    "\n",
    "df_morteNeonatal.loc[df_morteNeonatal.n_sg_sexo == 'M','n_sg_sexo'] = 1\n",
    "df_morteNeonatal.loc[df_morteNeonatal.n_sg_sexo == 'F','n_sg_sexo'] = 2\n",
    "df_morteNeonatal['n_sg_sexo']=df_morteNeonatal['n_sg_sexo'].astype(int)\n",
    "\n",
    "########################################## Linha Linha#########################\n",
    "#i=1\n",
    "#for index, row in df_morteNeonatal.iterrows():\n",
    "#    #print (row['n_sg_sexo'])\n",
    "#    if row['n_sg_sexo']=='2':\n",
    "#        #row['n_sg_sexo'].dtype\n",
    "#       row['n_sg_sexo']=int(row['n_sg_sexo'])\n",
    "#       print(i)\n",
    "#       i=i+1\n",
    "########################################## Linha Linha#########################\n",
    "##  Crianças que morreram antes dos 28 dias de vida\n",
    "#df_morteNeonatal=df_morteNeonatal[df_morteNeonatal[\"n_sg_sexo\"] == 1]##Homens\n",
    "#df_morteNeonatal=df_morteNeonatal[df_morteNeonatal[\"n_tp_raca_cor_mae\"]==4]##Parda\n",
    "#df_morteNeonatal=df_morteNeonatal[df_morteNeonatal[\"n_tp_ocorrencia\"]==1]##Residencia\n",
    "#df_morteNeonatal=df_morteNeonatal[df_morteNeonatal[\"n_tp_parto\"]==2]##Parto normal\n",
    "#df_morteNeonatal=df_morteNeonatal[df_morteNeonatal[\"year_death\"]==2006]##Ano de morte\n",
    "\n",
    "#df_morteNeonatal.count()\n",
    "                                \n",
    "t=df_morteNeonatal.groupby('n_tp_raca_cor_mae')['n_tp_raca_cor_mae'].count()\n",
    "#t=df_morteNeonatal.year_death.unique()\n",
    "#type(t.index)\n",
    "\n",
    "tt=list(t.index)\n",
    "\n",
    "tt\n"
   ]
  },
  {
   "cell_type": "code",
   "execution_count": 20,
   "metadata": {},
   "outputs": [
    {
     "data": {
      "text/plain": [
       "Index(['id', 'n_tp_ocorrencia', 'n_co_municipio_ibge_ocorrencia', 'n_nu_idade', 'n_tp_estado_civil', 'n_tp_escolaridade', 'n_qt_nascidos_vivos', 'n_qt_nascidos_mortos', 'n_co_municipio_ibge_residencia', 'n_tp_gestacao', 'n_tp_gravidez', 'n_tp_parto', 'n_tp_prenatal', 'n_dt_nascimento', 'n_sg_sexo', 'n_nu_apgar1', 'n_nu_apgar5', 'n_tp_raca_cor', 'n_nu_peso', 'n_co_cid', 'n_st_malformacao', 'n_co_bairro_ocorrencia', 'n_co_bairro_residencia', 'n_tp_raca_cor_mae', 'n_qt_gestacao_anterior', 'n_qt_parto_normal', 'n_qt_parto_cesaria', 'n_tp_metodo_estimar', 'n_tp_apresentacao', 'n_st_trabalho_parto', 'n_st_cesarea_parto', 'n_tp_grupo_robson', 'n_tp_nascimento_assistido', 'n_tp_funcao_responsavel', 'morte_menor_28d', 'date_death', 'day_birth', 'month_birth', 'year_birth', 'day_death', 'month_death', 'year_death', 'n_ct_peso', 'n_ct_idade', 'n_ct_nascidos_vivos', 'n_ct_nascidos_mortos', 'n_ct_gestacao_anterior', 'n_ct_parto_normal', 'n_ct_parto_cesaria', 'n_ct_apgar1', 'n_ct_apgar5'], dtype='object')"
      ]
     },
     "execution_count": 20,
     "metadata": {},
     "output_type": "execute_result"
    }
   ],
   "source": [
    "df_morteNeonatal.columns"
   ]
  },
  {
   "cell_type": "code",
   "execution_count": 23,
   "metadata": {},
   "outputs": [
    {
     "data": {
      "text/plain": [
       "array([1, 3, 2, 4])"
      ]
     },
     "execution_count": 23,
     "metadata": {},
     "output_type": "execute_result"
    }
   ],
   "source": [
    "available_indicators = df_morteNeonatal['n_tp_ocorrencia'].unique()\n",
    "available_indicators"
   ]
  },
  {
   "cell_type": "code",
   "execution_count": 76,
   "metadata": {},
   "outputs": [
    {
     "data": {
      "text/plain": [
       "RangeIndex(start=0, stop=153861, step=1)"
      ]
     },
     "execution_count": 76,
     "metadata": {},
     "output_type": "execute_result"
    }
   ],
   "source": [
    "teste=df['n_nu_peso'].index\n",
    "teste"
   ]
  },
  {
   "cell_type": "code",
   "execution_count": null,
   "metadata": {},
   "outputs": [],
   "source": []
  },
  {
   "cell_type": "code",
   "execution_count": null,
   "metadata": {},
   "outputs": [],
   "source": []
  },
  {
   "cell_type": "code",
   "execution_count": null,
   "metadata": {},
   "outputs": [],
   "source": []
  },
  {
   "cell_type": "code",
   "execution_count": null,
   "metadata": {},
   "outputs": [],
   "source": [
    "df_2006.head()"
   ]
  },
  {
   "cell_type": "code",
   "execution_count": 44,
   "metadata": {},
   "outputs": [],
   "source": [
    "values_2006 = df_2006.shape[0]"
   ]
  },
  {
   "cell_type": "code",
   "execution_count": 45,
   "metadata": {},
   "outputs": [
    {
     "data": {
      "text/plain": [
       "33"
      ]
     },
     "execution_count": 45,
     "metadata": {},
     "output_type": "execute_result"
    }
   ],
   "source": [
    "values_2006"
   ]
  },
  {
   "cell_type": "code",
   "execution_count": null,
   "metadata": {},
   "outputs": [],
   "source": []
  }
 ],
 "metadata": {
  "kernelspec": {
   "display_name": "Python 3",
   "language": "python",
   "name": "python3"
  },
  "language_info": {
   "codemirror_mode": {
    "name": "ipython",
    "version": 3
   },
   "file_extension": ".py",
   "mimetype": "text/x-python",
   "name": "python",
   "nbconvert_exporter": "python",
   "pygments_lexer": "ipython3",
   "version": "3.6.9"
  }
 },
 "nbformat": 4,
 "nbformat_minor": 2
}
