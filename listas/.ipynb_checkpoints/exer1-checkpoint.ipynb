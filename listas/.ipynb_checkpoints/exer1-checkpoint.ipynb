{
 "cells": [
  {
   "cell_type": "code",
   "execution_count": 1,
   "metadata": {},
   "outputs": [],
   "source": [
    "import numpy as np\n",
    "import math"
   ]
  },
  {
   "cell_type": "code",
   "execution_count": null,
   "metadata": {},
   "outputs": [],
   "source": []
  },
  {
   "cell_type": "code",
   "execution_count": 14,
   "metadata": {},
   "outputs": [
    {
     "name": "stdout",
     "output_type": "stream",
     "text": [
      "Digite 10 números para preencher a lista:\n",
      "--->  1\n",
      "--->  1\n",
      "--->  1\n",
      "--->  1\n",
      "--->  1\n",
      "--->  1\n",
      "--->  1\n",
      "--->  1\n",
      "--->  1\n",
      "--->  1\n",
      "[10, 1, 1, 1, 1, 1, 1, 1, 1, 1, 1]\n",
      "O parametro passado foi : 11\n",
      "Contador' : 2\n",
      "#############################\n",
      "Contador2 : 3\n",
      "#############################\n",
      "Contador' : 3\n",
      "#############################\n",
      "Contador2 : 4\n",
      "#############################\n",
      "Contador' : 4\n",
      "#############################\n",
      "Contador2 : 5\n",
      "#############################\n",
      "Contador' : 5\n",
      "#############################\n",
      "Contador2 : 6\n",
      "#############################\n",
      "Contador' : 6\n",
      "#############################\n",
      "Contador2 : 7\n",
      "#############################\n"
     ]
    },
    {
     "ename": "IndexError",
     "evalue": "list index out of range",
     "output_type": "error",
     "traceback": [
      "\u001b[0;31m---------------------------------------------------------------------------\u001b[0m",
      "\u001b[0;31mIndexError\u001b[0m                                Traceback (most recent call last)",
      "\u001b[0;32m<ipython-input-14-585fd2145823>\u001b[0m in \u001b[0;36m<module>\u001b[0;34m()\u001b[0m\n\u001b[1;32m     33\u001b[0m \u001b[0;34m\u001b[0m\u001b[0m\n\u001b[1;32m     34\u001b[0m \u001b[0;32mprint\u001b[0m \u001b[0mlista\u001b[0m\u001b[0;34m\u001b[0m\u001b[0;34m\u001b[0m\u001b[0m\n\u001b[0;32m---> 35\u001b[0;31m \u001b[0mremoveRepetidos\u001b[0m\u001b[0;34m(\u001b[0m\u001b[0mlista\u001b[0m\u001b[0;34m,\u001b[0m\u001b[0mlen\u001b[0m\u001b[0;34m(\u001b[0m\u001b[0mlista\u001b[0m\u001b[0;34m)\u001b[0m\u001b[0;34m)\u001b[0m\u001b[0;34m\u001b[0m\u001b[0;34m\u001b[0m\u001b[0m\n\u001b[0m",
      "\u001b[0;32m<ipython-input-14-585fd2145823>\u001b[0m in \u001b[0;36mremoveRepetidos\u001b[0;34m(lista, x)\u001b[0m\n\u001b[1;32m      4\u001b[0m \u001b[0;34m\u001b[0m\u001b[0m\n\u001b[1;32m      5\u001b[0m     \u001b[0;32mwhile\u001b[0m \u001b[0mcontador\u001b[0m\u001b[0;34m<\u001b[0m\u001b[0mx\u001b[0m\u001b[0;34m:\u001b[0m\u001b[0;34m\u001b[0m\u001b[0;34m\u001b[0m\u001b[0m\n\u001b[0;32m----> 6\u001b[0;31m         \u001b[0;32mif\u001b[0m \u001b[0mlista\u001b[0m\u001b[0;34m[\u001b[0m\u001b[0mcontador\u001b[0m\u001b[0;34m]\u001b[0m\u001b[0;34m==\u001b[0m\u001b[0mlista\u001b[0m\u001b[0;34m[\u001b[0m\u001b[0mcontador\u001b[0m\u001b[0;34m+\u001b[0m\u001b[0;36m1\u001b[0m\u001b[0;34m]\u001b[0m\u001b[0;34m:\u001b[0m\u001b[0;34m\u001b[0m\u001b[0;34m\u001b[0m\u001b[0m\n\u001b[0m\u001b[1;32m      7\u001b[0m             \u001b[0mlista\u001b[0m\u001b[0;34m.\u001b[0m\u001b[0mpop\u001b[0m\u001b[0;34m(\u001b[0m\u001b[0mcontador\u001b[0m\u001b[0;34m)\u001b[0m\u001b[0;34m\u001b[0m\u001b[0;34m\u001b[0m\u001b[0m\n\u001b[1;32m      8\u001b[0m             \u001b[0mcontador\u001b[0m\u001b[0;34m=\u001b[0m\u001b[0mcontador\u001b[0m\u001b[0;34m+\u001b[0m\u001b[0;36m1\u001b[0m\u001b[0;34m\u001b[0m\u001b[0;34m\u001b[0m\u001b[0m\n",
      "\u001b[0;31mIndexError\u001b[0m: list index out of range"
     ]
    }
   ],
   "source": [
    "def removeRepetidos(lista,x):\n",
    "    posicoesParaRemover = []\n",
    "    print(\"O parametro passado foi : \"+ str(x))\n",
    "    contador=0\n",
    "    \n",
    "    while contador<x:\n",
    "        if lista[contador]==lista[contador+1]:\n",
    "            posicoesParaRemover.append(contador+1)\n",
    "            #lista.pop(contador)\n",
    "            contador=contador+1\n",
    "            print(\"Contador' : \"+ str(contador))\n",
    "            print(\"#############################\")\n",
    "            print(\"Contador2 : \"+ str(contador+1))\n",
    "            print(\"#############################\")\n",
    "            \n",
    "        else:\n",
    "            contador=contador+1\n",
    "            #print(\"Contador2' : \"+ str(contador+1))\n",
    "            \n",
    "    print(\"Contador'' : \"+ str(contador))\n",
    "    print(\"Contador2'' : \"+ str(contador+1))\n",
    "    print(posicoesParaRemover)\n",
    "    \n",
    "\n",
    "print(\"Digite 10 números para preencher a lista:\")\n",
    "lista = []\n",
    "contador=0\n",
    "while contador < 10:\n",
    "    try:\n",
    "        item=input(\"--->  \")\n",
    "        lista.append(item)\n",
    "        contador= contador+1\n",
    "    except:\n",
    "        print(\"Digite um número válido!!\")\n",
    "\n",
    "print lista\n",
    "removeRepetidos(lista,len(lista))\n"
   ]
  }
 ],
 "metadata": {
  "kernelspec": {
   "display_name": "Python 3",
   "language": "python",
   "name": "python3"
  },
  "language_info": {
   "codemirror_mode": {
    "name": "ipython",
    "version": 2
   },
   "file_extension": ".py",
   "mimetype": "text/x-python",
   "name": "python",
   "nbconvert_exporter": "python",
   "pygments_lexer": "ipython2",
   "version": "2.7.15+"
  }
 },
 "nbformat": 4,
 "nbformat_minor": 2
}
