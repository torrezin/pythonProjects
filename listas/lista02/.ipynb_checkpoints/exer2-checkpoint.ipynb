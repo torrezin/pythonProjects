{
 "cells": [
  {
   "cell_type": "code",
   "execution_count": 21,
   "metadata": {},
   "outputs": [
    {
     "name": "stdout",
     "output_type": "stream",
     "text": [
      "Digite o tamanho do termo:10\n",
      "1\n",
      "1\n",
      "###################\n",
      "2\n",
      "3\n",
      "###################\n",
      "3\n",
      "5\n",
      "###################\n",
      "4\n",
      "7\n",
      "###################\n",
      "5\n",
      "9\n",
      "###################\n",
      "6\n",
      "11\n",
      "###################\n",
      "7\n",
      "13\n",
      "###################\n",
      "8\n",
      "15\n",
      "###################\n",
      "9\n",
      "17\n",
      "###################\n",
      "10\n",
      "19\n",
      "###################\n"
     ]
    }
   ],
   "source": [
    "tamanho=int(input(\"Digite o tamanho do termo:\")    )\n",
    "main(tamanho)"
   ]
  },
  {
   "cell_type": "code",
   "execution_count": 20,
   "metadata": {},
   "outputs": [],
   "source": [
    "def main(tamanho):\n",
    "    for i in range(0,tamanho):\n",
    "        aux=i\n",
    "        print(str(i+1)+\"\\n\"+str(aux+1+i))\n",
    "        print(\"###################\")"
   ]
  }
 ],
 "metadata": {
  "kernelspec": {
   "display_name": "Python 3",
   "language": "python",
   "name": "python3"
  },
  "language_info": {
   "codemirror_mode": {
    "name": "ipython",
    "version": 3
   },
   "file_extension": ".py",
   "mimetype": "text/x-python",
   "name": "python",
   "nbconvert_exporter": "python",
   "pygments_lexer": "ipython3",
   "version": "3.6.8"
  }
 },
 "nbformat": 4,
 "nbformat_minor": 2
}
