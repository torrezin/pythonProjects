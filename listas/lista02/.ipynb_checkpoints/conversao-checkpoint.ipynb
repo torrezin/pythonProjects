{
 "cells": [
  {
   "cell_type": "code",
   "execution_count": 5,
   "metadata": {},
   "outputs": [],
   "source": [
    "from datetime import datetime"
   ]
  },
  {
   "cell_type": "code",
   "execution_count": 4,
   "metadata": {},
   "outputs": [],
   "source": [
    "def conversao(data):\n",
    "    data = datetime.strptime(data, '%d/%m/%Y')\n",
    "    data_convertida=data.strftime('%d')+\" \"+data.strftime('%B')+\" \"+data.strftime('%Y')\n",
    "    print(\"Data convertida ----->  \"+data_convertida)\n",
    "    "
   ]
  },
  {
   "cell_type": "code",
   "execution_count": 8,
   "metadata": {},
   "outputs": [],
   "source": [
    "def mainconver():\n",
    "    cont=0\n",
    "    #data=str(input(\"Digite uma data no seguinte formato DD/MM/AAAA\\n\"))\n",
    "    #conversao(data)\n",
    "    while cont==0:\n",
    "        data=str(input(\"Digite uma data no seguinte formato DD/MM/AAAA\\n\\n\\n\"))\n",
    "        try:\n",
    "            conversao(data)\n",
    "            cont=1\n",
    "        except:\n",
    "            print(\"\\n\\n\\n*****insira a data corretamente DD/MM/AAAA*****\\n\\n\")"
   ]
  },
  {
   "cell_type": "code",
   "execution_count": 7,
   "metadata": {},
   "outputs": [
    {
     "name": "stdout",
     "output_type": "stream",
     "text": [
      "Digite uma data no seguinte formato DD/MM/AAAA\n",
      "\n",
      "\n",
      "20/10/2010\n",
      "Data convertida ----->  20 October 2010\n"
     ]
    }
   ],
   "source": [
    "main()"
   ]
  }
 ],
 "metadata": {
  "kernelspec": {
   "display_name": "Python 3",
   "language": "python",
   "name": "python3"
  },
  "language_info": {
   "codemirror_mode": {
    "name": "ipython",
    "version": 3
   },
   "file_extension": ".py",
   "mimetype": "text/x-python",
   "name": "python",
   "nbconvert_exporter": "python",
   "pygments_lexer": "ipython3",
   "version": "3.6.8"
  }
 },
 "nbformat": 4,
 "nbformat_minor": 2
}
