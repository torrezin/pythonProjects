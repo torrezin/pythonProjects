{
 "cells": [
  {
   "cell_type": "code",
   "execution_count": 13,
   "metadata": {},
   "outputs": [],
   "source": [
    "from random import randint"
   ]
  },
  {
   "cell_type": "code",
   "execution_count": 12,
   "metadata": {},
   "outputs": [],
   "source": [
    "def escrever(nome_arquivo):\n",
    "    arq_escrever = open(\"\"+str(nome_arquivo)+\".txt\", \"w\")\n",
    "    conteudo_arquivo = str(input('\\nDigita as palavras pro jogo da forca sortear\\n\\n\\n\\n'))\n",
    "    arq_escrever.write(conteudo_arquivo)\n",
    "    arq_escrever.close()\n",
    "\n",
    "    procurar(nome_arquivo)"
   ]
  },
  {
   "cell_type": "code",
   "execution_count": 11,
   "metadata": {},
   "outputs": [],
   "source": [
    "def procurar(nome_arquivo):\n",
    "    newList = []\n",
    "    arq_ler = open(nome_arquivo+\".txt\", 'r')\n",
    "    texto_lido = arq_ler.read()\n",
    "    arq_ler.close()\n",
    "\n",
    "    txt=texto_lido.split(\" \")\n",
    "    print(\"\\n\\nlista txt---> \"+str(txt)+\"\\n\\n\")\n",
    "    sorteio= randint(0,len(txt)-1)\n",
    "    print(\"Sorteio--- >  \"+str(sorteio))\n",
    "    print(\"Tamanho--- >  \"+str(len(txt)))\n",
    "    print(\"Palavra--- >  \"+str(txt[sorteio]))\n",
    "    forca(str(txt[sorteio]))"
   ]
  },
  {
   "cell_type": "code",
   "execution_count": 15,
   "metadata": {},
   "outputs": [],
   "source": [
    "def forca(palavra):\n",
    "    word=list(palavra)\n",
    "    tamanho=len(word)\n",
    "    cont=0\n",
    "    add=list('')\n",
    "    for i in range(0,tamanho):\n",
    "        add.append('_ ')\n",
    "    while cont!=6:\n",
    "        print(\"Contador ---> \"+str(cont))\n",
    "        letra=input(\"Digite uma letra:\\n\")\n",
    "        if letra not in palavra:\n",
    "            cont=cont+1\n",
    "        else:\n",
    "            indice=0\n",
    "            if letra in add:\n",
    "                cont=cont+1\n",
    "            for y in range(0,tamanho):\n",
    "                if letra==word[y]:\n",
    "                    add[y]=letra\n",
    "            if word==add:\n",
    "                print(\"Você acertou! A palavra era ---->    \"+\"\".join(add))\n",
    "                return 0\n",
    "         \n",
    "        print(\"A palavra é-->  \"+\"\".join(add))       "
   ]
  },
  {
   "cell_type": "code",
   "execution_count": 16,
   "metadata": {},
   "outputs": [
    {
     "name": "stdout",
     "output_type": "stream",
     "text": [
      "\n",
      "Digita as palavras pro jogo da forca sortear\n",
      "\n",
      "\n",
      "\n",
      "thiago lorente kraetzer doido louco\n",
      "\n",
      "\n",
      "lista txt---> ['thiago', 'lorente', 'kraetzer', 'doido', 'louco']\n",
      "\n",
      "\n",
      "Sorteio--- >  2\n",
      "Tamanho--- >  5\n",
      "Palavra--- >  kraetzer\n",
      "Contador ---> 0\n",
      "Digite uma letra:\n",
      "e\n",
      "A palavra é-->  _ _ _ e_ _ e_ \n",
      "Contador ---> 0\n",
      "Digite uma letra:\n",
      "k\n",
      "A palavra é-->  k_ _ e_ _ e_ \n",
      "Contador ---> 0\n",
      "Digite uma letra:\n",
      "r\n",
      "A palavra é-->  kr_ e_ _ er\n",
      "Contador ---> 0\n",
      "Digite uma letra:\n",
      "a\n",
      "A palavra é-->  krae_ _ er\n",
      "Contador ---> 0\n",
      "Digite uma letra:\n",
      "e\n",
      "A palavra é-->  krae_ _ er\n",
      "Contador ---> 1\n",
      "Digite uma letra:\n",
      "t\n",
      "A palavra é-->  kraet_ er\n",
      "Contador ---> 1\n",
      "Digite uma letra:\n",
      "z\n",
      "Você acertou! A palavra era ---->    kraetzer\n"
     ]
    }
   ],
   "source": [
    "escrever(\"palavras.txt\")"
   ]
  }
 ],
 "metadata": {
  "kernelspec": {
   "display_name": "Python 3",
   "language": "python",
   "name": "python3"
  },
  "language_info": {
   "codemirror_mode": {
    "name": "ipython",
    "version": 3
   },
   "file_extension": ".py",
   "mimetype": "text/x-python",
   "name": "python",
   "nbconvert_exporter": "python",
   "pygments_lexer": "ipython3",
   "version": "3.6.8"
  }
 },
 "nbformat": 4,
 "nbformat_minor": 2
}
