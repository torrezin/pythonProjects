{
 "cells": [
  {
   "cell_type": "code",
   "execution_count": 15,
   "metadata": {},
   "outputs": [
    {
     "name": "stdout",
     "output_type": "stream",
     "text": [
      "Qual combustível será comprado? \n",
      "A (alcool)-\n",
      "G (gasolina)-\n",
      "g\n",
      "Quantos litros de gasolina você comprou?\n",
      "21\n",
      "Você comprou 21 litros, com um desconto de 4.41  Resultando num total de---->69.09\n"
     ]
    }
   ],
   "source": [
    "def main():\n",
    "  #  try:\n",
    "        loop=0\n",
    "        while loop==0:\n",
    "            opcao = str(input(\"Qual combustível será comprado? \\nA (alcool)-\\nG (gasolina)-\\n\"))\n",
    "            if opcao==\"a\" or opcao==\"A\":\n",
    "                calculaValor(1)\n",
    "                loop=1\n",
    "            elif opcao=='g' or opcao=='G':\n",
    "                calculaValor(2)\n",
    "                loop=1\n",
    "            else:\n",
    "                print(\"Digite uma opção válida\")\n",
    "   # except:\n",
    "   #     print(\"Verifique se você definiu as funções das outras células!!!\")\n",
    "main()"
   ]
  },
  {
   "cell_type": "code",
   "execution_count": 14,
   "metadata": {},
   "outputs": [],
   "source": [
    "def calculaValor(n):\n",
    "    if n==1:\n",
    "        litros=int(input(\"Quantos litros de alcóol você comprou?\\n\"))\n",
    "        if litros<=20:\n",
    "            print(\"Você comprou \"+str(litros)+\" litros, com um desconto de \"+str(\"%.2f\" %(litros*2.9*0.04))+\"  Resultando num total de---->\"+str(\"%.2f\" %(litros*2.9*0.96)))\n",
    "        else:\n",
    "            print(\"Você comprou \"+str(litros)+\" litros, com um desconto de \"+str(\"%.2f\" %(litros*2.9*0.06))+\"  Resultando num total de---->\"+str(\"%.2f\" %(litros*2.9*0.94)))\n",
    "    else:\n",
    "        litros=int(input(\"Quantos litros de gasolina você comprou?\\n\"))\n",
    "        if litros<=20:\n",
    "            print(\"Você comprou \"+str(litros)+\" litros, com um desconto de \"+str(\"%.2f\" %(litros*3.5*0.04))+\"  Resultando num total de---->\"+str(\"%.2f\" %(litros*3.5*0.96)))\n",
    "        else:\n",
    "            print(\"Você comprou \"+str(litros)+\" litros, com um desconto de \"+str(\"%.2f\" %(litros*3.5*0.06))+\"  Resultando num total de---->\"+str(\"%.2f\" %(litros*3.5*0.94)))"
   ]
  }
 ],
 "metadata": {
  "kernelspec": {
   "display_name": "Python 3",
   "language": "python",
   "name": "python3"
  },
  "language_info": {
   "codemirror_mode": {
    "name": "ipython",
    "version": 3
   },
   "file_extension": ".py",
   "mimetype": "text/x-python",
   "name": "python",
   "nbconvert_exporter": "python",
   "pygments_lexer": "ipython3",
   "version": "3.6.8"
  }
 },
 "nbformat": 4,
 "nbformat_minor": 2
}
