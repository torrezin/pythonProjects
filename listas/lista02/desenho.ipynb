{
 "cells": [
  {
   "cell_type": "code",
   "execution_count": 1,
   "metadata": {},
   "outputs": [],
   "source": [
    "import numpy as np"
   ]
  },
  {
   "cell_type": "code",
   "execution_count": 64,
   "metadata": {},
   "outputs": [],
   "source": [
    "def retangulo(linhas,colunas):\n",
    "    colunass=int(round(linhas/2))-1\n",
    "    linhass=int(round(colunas/2))+1\n",
    "    matrix=np.zeros((linhas,colunas), dtype=np.unicode_)\n",
    "    for i in range(0,linhas):\n",
    "        for y in range(0,colunas):\n",
    "            matrix[i][y]=\" \"\n",
    "            matrix[i][0]=\"|\"\n",
    "            matrix[i][colunas-1]=\"|\"\n",
    "            matrix[0][y]=\"-\"\n",
    "            matrix[linhas-1][y]=\"_\"\n",
    "    \n",
    "    \n",
    "    #print(\"Escrever------>  \"+str(linhass))\n",
    "    #print(\"Escrever------>  \"+str(colunass))\n",
    "    \n",
    "    matrix[colunass][linhass-3]=\"O\"\n",
    "    matrix[colunass][linhass-2]=\"I\"\n",
    "    matrix[colunass][linhass-1]=\" \"\n",
    "    matrix[colunass][linhass]=\"R\"\n",
    "    matrix[colunass][linhass+1]=\"s\"\n",
    "    \n",
    "    print(matrix)        \n",
    "        \n"
   ]
  },
  {
   "cell_type": "code",
   "execution_count": 2,
   "metadata": {},
   "outputs": [],
   "source": [
    "def maindes():\n",
    "    try:\n",
    "        linhas=int(input(\"Digite a largura do retângulo\\n\"))\n",
    "        colunas=int(input(\"Digite a altura do retângulo\\n\\n\"))\n",
    "\n",
    "        if linhas > 20:\n",
    "            linhas=20\n",
    "            print(\"A quantidade de linhas foi alterada para 20 pos o valor máximo foi atingido!\\n\\n\")\n",
    "        elif linhas<1:\n",
    "            linhas=1\n",
    "            print(\"A quantidade de linhas foi alterada para 1 pos o valor mínimo não foi atingido!\\n\\n\")\n",
    "\n",
    "        if colunas > 20:\n",
    "            colunas=20\n",
    "            print(\"A quantidade de linhas foi alterada para 20 pos o valor máximo foi atingido!\\n\\n\")\n",
    "        elif colunas<1:\n",
    "            colunas=1\n",
    "            print(\"A quantidade de linhas foi alterada para 1 pos o valor mínimo não foi atingido!\\n\\n\")\n",
    "\n",
    "        retangulo(linhas,colunas)\n",
    "    except:\n",
    "        print(\"Digita direito ae porra!\")"
   ]
  }
 ],
 "metadata": {
  "kernelspec": {
   "display_name": "Python 3",
   "language": "python",
   "name": "python3"
  },
  "language_info": {
   "codemirror_mode": {
    "name": "ipython",
    "version": 3
   },
   "file_extension": ".py",
   "mimetype": "text/x-python",
   "name": "python",
   "nbconvert_exporter": "python",
   "pygments_lexer": "ipython3",
   "version": "3.6.8"
  }
 },
 "nbformat": 4,
 "nbformat_minor": 2
}
