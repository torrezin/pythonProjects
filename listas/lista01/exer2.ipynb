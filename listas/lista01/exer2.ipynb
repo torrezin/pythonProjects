{
 "cells": [
  {
   "cell_type": "code",
   "execution_count": 1,
   "metadata": {},
   "outputs": [],
   "source": [
    "import math as m;\n",
    "import numpy as np\n",
    "import matplotlib"
   ]
  },
  {
   "cell_type": "code",
   "execution_count": 2,
   "metadata": {},
   "outputs": [
    {
     "name": "stdout",
     "output_type": "stream",
     "text": [
      "Até qual número vamos buscar todos os primos?:1\n",
      "N==:1       y==: 1\n",
      "#######################   N==:1       y==: 1\n",
      "Divisores--->1\n",
      " \n"
     ]
    },
    {
     "data": {
      "text/plain": [
       "[1]"
      ]
     },
     "execution_count": 2,
     "metadata": {},
     "output_type": "execute_result"
    }
   ],
   "source": [
    "def retornaPrimos(N):\n",
    "    l = []\n",
    "    M=N\n",
    "    divisores=0\n",
    "    for i in range(1,N+1):\n",
    "        #print(N)\n",
    "        divisores=0   \n",
    "        for y in range(1,M+1):\n",
    "            print(\"N==:\"+str(N)+\"       y==: \"+str(y))\n",
    "            if(N%y==0):\n",
    "                print(\"#######################   N==:\"+str(N)+\"       y==: \"+str(y))\n",
    "                divisores=divisores+1\n",
    "                #l.append(i)\n",
    "        print(\"Divisores--->\"+str(divisores))   \n",
    "        print(\" \")\n",
    "        if(divisores<=2):\n",
    "            l.append(N)\n",
    "        \n",
    "        N=N-1\n",
    "    return l\n",
    "\n",
    "N = int(input('Até qual número vamos buscar todos os primos?:'))\n",
    "retornaPrimos(N)"
   ]
  },
  {
   "cell_type": "code",
   "execution_count": 7,
   "metadata": {},
   "outputs": [
    {
     "data": {
      "text/plain": [
       "'5'"
      ]
     },
     "execution_count": 7,
     "metadata": {},
     "output_type": "execute_result"
    }
   ],
   "source": [
    "N"
   ]
  }
 ],
 "metadata": {
  "kernelspec": {
   "display_name": "Python 3",
   "language": "python",
   "name": "python3"
  },
  "language_info": {
   "codemirror_mode": {
    "name": "ipython",
    "version": 3
   },
   "file_extension": ".py",
   "mimetype": "text/x-python",
   "name": "python",
   "nbconvert_exporter": "python",
   "pygments_lexer": "ipython3",
   "version": "3.6.8"
  }
 },
 "nbformat": 4,
 "nbformat_minor": 2
}
