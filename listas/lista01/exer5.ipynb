{
 "cells": [
  {
   "cell_type": "code",
   "execution_count": 4,
   "metadata": {},
   "outputs": [
    {
     "name": "stdout",
     "output_type": "stream",
     "text": [
      "1-Escrever texto.\n",
      "2-Abrir texto existente.\n",
      "1\n",
      "Digite o nome do arquivo a ser criado:\n",
      "google\n",
      "\n",
      "Digite o conteúdo do arquivo\n",
      "\n",
      "\n",
      "\n",
      "thiago thiago teste lorente lorente\n",
      "\n",
      "\n",
      "lista txt---> ['thiago', 'thiago', 'teste', 'lorente', 'lorente']\n",
      "\n",
      "\n",
      "\n",
      "\n",
      "\n",
      "Número de palavras do texto ---->5\n",
      "A palavra thiago   aparece  2   vezes no texto lido\n",
      "A palavra teste   aparece  1   vezes no texto lido\n",
      "A palavra lorente   aparece  2   vezes no texto lido\n",
      "\n",
      "\n",
      "new List-------->['thiago', 'teste', 'lorente']\n",
      "\n",
      "\n",
      "\n",
      "Ae vacilão, fez uma coisa certa a vida\n"
     ]
    }
   ],
   "source": [
    "laco=0\n",
    "while laco==0:\n",
    "    option = int(input(\"1-Escrever texto.\\n2-Abrir texto existente.\\n\"))\n",
    "    if option==1:\n",
    "        nome_arquivo = input('Digite o nome do arquivo a ser criado:\\n')\n",
    "        escrever(nome_arquivo)\n",
    "        laco=1\n",
    "    elif option==2:\n",
    "        nome_arquivo = input('Digite o nome do arquivo txt (SEM O .txt !)\\n')\n",
    "        procurar(nome_arquivo)\n",
    "        laco=1\n",
    "    else:\n",
    "        print(\"Digite uma opção válida seu zé ruela!\")\n",
    "print(\"\\n\\n\\nAe vacilão, fez uma coisa certa a vida\")"
   ]
  },
  {
   "cell_type": "code",
   "execution_count": 3,
   "metadata": {},
   "outputs": [],
   "source": [
    "def procurar(nome_arquivo):\n",
    "    #palavra = input('\\n\\n\\n\\nDigite a palavra a ser procurada\\n')\n",
    "    newList = []\n",
    "    arq_ler = open(nome_arquivo+\".txt\", 'r')\n",
    "    texto_lido = arq_ler.read()\n",
    "    arq_ler.close()\n",
    "\n",
    "    txt=texto_lido.split(\" \")\n",
    "    print(\"\\n\\nlista txt---> \"+str(txt)+\"\\n\\n\")\n",
    "    print(\"\\n\\n\\nNúmero de palavras do texto ---->\"+str(len(txt)))    \n",
    "    \n",
    "    for i in range(1,len(txt)+1):\n",
    "        #print(i)\n",
    "        if txt[i-1] not in newList:\n",
    "            print(\"A palavra \"+txt[i-1]+\"   aparece  \"+str(txt.count(txt[i-1]))+\"   vezes no texto lido\")\n",
    "            newList.append(txt[i-1])\n",
    "    print(\"\\n\\nnew List-------->\"+str(newList))"
   ]
  },
  {
   "cell_type": "code",
   "execution_count": 2,
   "metadata": {},
   "outputs": [],
   "source": [
    "def escrever(nome_arquivo):\n",
    "    arq_escrever = open(\"\"+str(nome_arquivo)+\".txt\", \"w\")\n",
    "    conteudo_arquivo = str(input('\\nDigite o conteúdo do arquivo\\n\\n\\n\\n'))\n",
    "    arq_escrever.write(conteudo_arquivo)\n",
    "    arq_escrever.close()\n",
    "\n",
    "    procurar(nome_arquivo)"
   ]
  }
 ],
 "metadata": {
  "kernelspec": {
   "display_name": "Python 3",
   "language": "python",
   "name": "python3"
  },
  "language_info": {
   "codemirror_mode": {
    "name": "ipython",
    "version": 3
   },
   "file_extension": ".py",
   "mimetype": "text/x-python",
   "name": "python",
   "nbconvert_exporter": "python",
   "pygments_lexer": "ipython3",
   "version": "3.6.8"
  }
 },
 "nbformat": 4,
 "nbformat_minor": 2
}
