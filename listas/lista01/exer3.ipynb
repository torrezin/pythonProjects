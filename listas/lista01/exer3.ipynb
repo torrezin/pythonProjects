{
 "cells": [
  {
   "cell_type": "code",
   "execution_count": 4,
   "metadata": {},
   "outputs": [],
   "source": [
    "import math "
   ]
  },
  {
   "cell_type": "code",
   "execution_count": 8,
   "metadata": {},
   "outputs": [
    {
     "name": "stdout",
     "output_type": "stream",
     "text": [
      "Digite um tamanho para o for360\n",
      "ÂNGULO--->0____Valor do radiano-->0.00____Valor do seno--->0.00____Valor do cosseno--->1.00\n",
      "ÂNGULO--->10____Valor do radiano-->0.17____Valor do seno--->0.17____Valor do cosseno--->0.98\n",
      "ÂNGULO--->20____Valor do radiano-->0.35____Valor do seno--->0.34____Valor do cosseno--->0.94\n",
      "ÂNGULO--->30____Valor do radiano-->0.52____Valor do seno--->0.50____Valor do cosseno--->0.87\n",
      "ÂNGULO--->40____Valor do radiano-->0.70____Valor do seno--->0.64____Valor do cosseno--->0.77\n",
      "ÂNGULO--->50____Valor do radiano-->0.87____Valor do seno--->0.77____Valor do cosseno--->0.64\n",
      "ÂNGULO--->60____Valor do radiano-->1.05____Valor do seno--->0.87____Valor do cosseno--->0.50\n",
      "ÂNGULO--->70____Valor do radiano-->1.22____Valor do seno--->0.94____Valor do cosseno--->0.34\n",
      "ÂNGULO--->80____Valor do radiano-->1.40____Valor do seno--->0.98____Valor do cosseno--->0.17\n",
      "ÂNGULO--->90____Valor do radiano-->1.57____Valor do seno--->1.00____Valor do cosseno--->0.00\n",
      "ÂNGULO--->100____Valor do radiano-->1.75____Valor do seno--->0.98____Valor do cosseno--->-0.17\n",
      "ÂNGULO--->110____Valor do radiano-->1.92____Valor do seno--->0.94____Valor do cosseno--->-0.34\n",
      "ÂNGULO--->120____Valor do radiano-->2.09____Valor do seno--->0.87____Valor do cosseno--->-0.50\n",
      "ÂNGULO--->130____Valor do radiano-->2.27____Valor do seno--->0.77____Valor do cosseno--->-0.64\n",
      "ÂNGULO--->140____Valor do radiano-->2.44____Valor do seno--->0.64____Valor do cosseno--->-0.77\n",
      "ÂNGULO--->150____Valor do radiano-->2.62____Valor do seno--->0.50____Valor do cosseno--->-0.87\n",
      "ÂNGULO--->160____Valor do radiano-->2.79____Valor do seno--->0.34____Valor do cosseno--->-0.94\n",
      "ÂNGULO--->170____Valor do radiano-->2.97____Valor do seno--->0.17____Valor do cosseno--->-0.98\n",
      "ÂNGULO--->180____Valor do radiano-->3.14____Valor do seno--->0.00____Valor do cosseno--->-1.00\n",
      "ÂNGULO--->190____Valor do radiano-->3.32____Valor do seno--->-0.17____Valor do cosseno--->-0.98\n",
      "ÂNGULO--->200____Valor do radiano-->3.49____Valor do seno--->-0.34____Valor do cosseno--->-0.94\n",
      "ÂNGULO--->210____Valor do radiano-->3.67____Valor do seno--->-0.50____Valor do cosseno--->-0.87\n",
      "ÂNGULO--->220____Valor do radiano-->3.84____Valor do seno--->-0.64____Valor do cosseno--->-0.77\n",
      "ÂNGULO--->230____Valor do radiano-->4.01____Valor do seno--->-0.77____Valor do cosseno--->-0.64\n",
      "ÂNGULO--->240____Valor do radiano-->4.19____Valor do seno--->-0.87____Valor do cosseno--->-0.50\n",
      "ÂNGULO--->250____Valor do radiano-->4.36____Valor do seno--->-0.94____Valor do cosseno--->-0.34\n",
      "ÂNGULO--->260____Valor do radiano-->4.54____Valor do seno--->-0.98____Valor do cosseno--->-0.17\n",
      "ÂNGULO--->270____Valor do radiano-->4.71____Valor do seno--->-1.00____Valor do cosseno--->-0.00\n",
      "ÂNGULO--->280____Valor do radiano-->4.89____Valor do seno--->-0.98____Valor do cosseno--->0.17\n",
      "ÂNGULO--->290____Valor do radiano-->5.06____Valor do seno--->-0.94____Valor do cosseno--->0.34\n",
      "ÂNGULO--->300____Valor do radiano-->5.24____Valor do seno--->-0.87____Valor do cosseno--->0.50\n",
      "ÂNGULO--->310____Valor do radiano-->5.41____Valor do seno--->-0.77____Valor do cosseno--->0.64\n",
      "ÂNGULO--->320____Valor do radiano-->5.59____Valor do seno--->-0.64____Valor do cosseno--->0.77\n",
      "ÂNGULO--->330____Valor do radiano-->5.76____Valor do seno--->-0.50____Valor do cosseno--->0.87\n",
      "ÂNGULO--->340____Valor do radiano-->5.93____Valor do seno--->-0.34____Valor do cosseno--->0.94\n",
      "ÂNGULO--->350____Valor do radiano-->6.11____Valor do seno--->-0.17____Valor do cosseno--->0.98\n",
      "ÂNGULO--->360____Valor do radiano-->6.28____Valor do seno--->-0.00____Valor do cosseno--->1.00\n"
     ]
    }
   ],
   "source": [
    "def testeFor(N):\n",
    "    for i in range(0,N+10,10):\n",
    "        radiano=math.radians(i)\n",
    "        seno=math.sin(radiano)\n",
    "        coseno=math.cos(radiano)\n",
    "        print(\"ÂNGULO--->\"+str(i)+\"____Valor do radiano-->\"+str(\"%.2f\" %(radiano))+\"____Valor do seno--->\"+str(\"%.2f\" %(seno))+\"____Valor do cosseno--->\"+str(\"%.2f\" %(coseno)))\n",
    "\n",
    "N = int(input('Digite um tamanho para o for'))\n",
    "testeFor(N)\n"
   ]
  }
 ],
 "metadata": {
  "kernelspec": {
   "display_name": "Python 3",
   "language": "python",
   "name": "python3"
  },
  "language_info": {
   "codemirror_mode": {
    "name": "ipython",
    "version": 3
   },
   "file_extension": ".py",
   "mimetype": "text/x-python",
   "name": "python",
   "nbconvert_exporter": "python",
   "pygments_lexer": "ipython3",
   "version": "3.6.8"
  }
 },
 "nbformat": 4,
 "nbformat_minor": 2
}
