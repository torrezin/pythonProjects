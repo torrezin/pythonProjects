{
 "cells": [
  {
   "cell_type": "code",
   "execution_count": 1,
   "metadata": {},
   "outputs": [],
   "source": [
    "import numpy as np\n",
    "import math"
   ]
  },
  {
   "cell_type": "code",
   "execution_count": 1,
   "metadata": {},
   "outputs": [
    {
     "name": "stdout",
     "output_type": "stream",
     "text": [
      "Digite 10 números para preencher a lista:\n",
      "--->  0\n",
      "--->  0\n",
      "--->  0\n",
      "--->  0\n",
      "--->  0\n",
      "--->  0\n",
      "--->  0\n",
      "--->  0\n",
      "--->  0\n",
      "--->  0\n",
      "Lista com elementos repetidos: [0, 0, 0, 0, 0, 0, 0, 0, 0, 0]\n",
      "Lista com os elementos repetidos removidos: [0]\n"
     ]
    }
   ],
   "source": [
    "def removeRepetidos(lista):\n",
    "    listaNova = []\n",
    "    contador=0\n",
    "    \n",
    "    for y in range(len(lista)):\n",
    "        if lista[y] not in listaNova:\n",
    "            listaNova.append(lista[y])\n",
    "        \n",
    "    return listaNova\n",
    "print(\"Digite 10 números para preencher a lista:\")\n",
    "lista = []\n",
    "contador=0\n",
    "while contador < 10:\n",
    "    try:\n",
    "        item=input(\"--->  \")\n",
    "        lista.append(item)\n",
    "        contador= contador+1\n",
    "    except:\n",
    "        print(\"Digite um número válido!!\")\n",
    "\n",
    "print(\"Lista com elementos repetidos: \"+str(lista))\n",
    "print(\"Lista com os elementos repetidos removidos: \"+ str(removeRepetidos(lista)))"
   ]
  }
 ],
 "metadata": {
  "kernelspec": {
   "display_name": "Python 3",
   "language": "python",
   "name": "python3"
  },
  "language_info": {
   "codemirror_mode": {
    "name": "ipython",
    "version": 3
   },
   "file_extension": ".py",
   "mimetype": "text/x-python",
   "name": "python",
   "nbconvert_exporter": "python",
   "pygments_lexer": "ipython3",
   "version": "3.6.8"
  }
 },
 "nbformat": 4,
 "nbformat_minor": 2
}
