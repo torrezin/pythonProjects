{
 "cells": [
  {
   "cell_type": "code",
   "execution_count": 1,
   "metadata": {},
   "outputs": [],
   "source": [
    "import dash\n",
    "import dash_core_components as dcc\n",
    "import dash_html_components as html\n",
    "from dash.dependencies import Input, Output\n",
    "import pandas as pd\n",
    "from pandas import read_excel"
   ]
  },
  {
   "cell_type": "code",
   "execution_count": 7,
   "metadata": {},
   "outputs": [],
   "source": [
    "df_pib = pd.read_excel('pib-2002-2016_AC.xlsx')\n",
    "\n",
    "#df_pib.columns"
   ]
  },
  {
   "cell_type": "code",
   "execution_count": 21,
   "metadata": {},
   "outputs": [
    {
     "data": {
      "text/plain": [
       "0           1\n",
       "1     1200013\n",
       "2     1200054\n",
       "3     1200104\n",
       "4     1200138\n",
       "5     1200179\n",
       "6     1200203\n",
       "7     1200252\n",
       "8     1200302\n",
       "9     1200328\n",
       "10    1200336\n",
       "11    1200344\n",
       "12    1200351\n",
       "13    1200385\n",
       "14    1200393\n",
       "15    1200401\n",
       "16    1200427\n",
       "17    1200435\n",
       "18    1200450\n",
       "19    1200500\n",
       "20    1200609\n",
       "21    1200708\n",
       "22    1200807\n",
       "Name: Cód., dtype: int64"
      ]
     },
     "execution_count": 21,
     "metadata": {},
     "output_type": "execute_result"
    }
   ],
   "source": [
    "df_filtrei = df_pib[:]\n",
    "municipios = df_filtrei.groupby('Brasil e Município')['Brasil e Município'].count()\n",
    "\n",
    "#municipios\n",
    "df_filtrei['Brasil e Município.']\n"
   ]
  }
 ],
 "metadata": {
  "kernelspec": {
   "display_name": "Python 3",
   "language": "python",
   "name": "python3"
  },
  "language_info": {
   "codemirror_mode": {
    "name": "ipython",
    "version": 3
   },
   "file_extension": ".py",
   "mimetype": "text/x-python",
   "name": "python",
   "nbconvert_exporter": "python",
   "pygments_lexer": "ipython3",
   "version": "3.6.9"
  }
 },
 "nbformat": 4,
 "nbformat_minor": 2
}
