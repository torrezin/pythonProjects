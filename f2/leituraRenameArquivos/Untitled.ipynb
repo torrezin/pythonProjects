{
 "cells": [
  {
   "cell_type": "code",
   "execution_count": 1,
   "metadata": {},
   "outputs": [],
   "source": [
    "import os\n",
    "import glob"
   ]
  },
  {
   "cell_type": "code",
   "execution_count": 5,
   "metadata": {},
   "outputs": [],
   "source": [
    "def alterarNome(nome,alterado):\n",
    "    name=str(nome)\n",
    "    alter=str(alterado)\n",
    "    \n",
    "    #Pegar os arquivos de um diretório e joga os nomes em uma lista\n",
    "    arquivos = os.listdir('/media/thiago/f20f55ad-0aca-470d-bbe4-658ac7117d78/ova/videos_edelson/videos_nics_12_08_2019/var/www/files/videos')\n",
    "    #variáveis auxiliares\n",
    "    cont=0\n",
    "    diretorio = '/media/thiago/f20f55ad-0aca-470d-bbe4-658ac7117d78/ova/videos_edelson/videos_nics_12_08_2019/var/www/files/videos'\n",
    "    #Entra no diretorio dos arquivos\n",
    "    os.chdir(r'/media/thiago/f20f55ad-0aca-470d-bbe4-658ac7117d78/ova/videos_edelson/videos_nics_12_08_2019/var/www/files/videos')\n",
    "    for filename in os.listdir(diretorio):\n",
    "        if name in filename:\n",
    "            os.rename(filename,alter)\n",
    "            print(\"----->\"+filename+\"        Foi alterado para -----> \"+alter+\"\\n\\n\\n\\n\\n\\n\\n\\n\\n\\n\\n\")"
   ]
  },
  {
   "cell_type": "code",
   "execution_count": 7,
   "metadata": {},
   "outputs": [
    {
     "name": "stdout",
     "output_type": "stream",
     "text": [
      "1- Alterar\n",
      "2-Sair\n",
      "1\n",
      "Qual o nome do arquivo que quer renomear?(poder ser uma parte do nome também)\n",
      "funfou\n",
      "Qual é o novo nome ?\n",
      "\n",
      "thiago\n",
      "----->funfou        Foi alterado para -----> thiago\n",
      "\n",
      "\n",
      "\n",
      "\n",
      "\n",
      "\n",
      "\n",
      "\n",
      "\n",
      "\n",
      "\n"
     ]
    }
   ],
   "source": [
    "loop=0\n",
    "opcao=0\n",
    "#alterarNome(\"thiago\",\"funfou\")\n",
    "\n",
    "while loop==0:\n",
    "    opcao=int(input(\"1- Alterar\\n2-Sair\\n\"))\n",
    "    if opcao == 1:\n",
    "        nome=input(\"Qual o nome do arquivo que quer renomear?(poder ser uma parte do nome também)\\n\")\n",
    "        alterado=input(\"Qual é o novo nome ?\\n\\n\")\n",
    "        alterarNome(nome,alterado)\n",
    "        loop=1\n",
    "    elif opcao==2:\n",
    "        loop=1\n",
    "        print(\"\\n\\nLoop------->\"+str(loop)+\"\\n\")\n",
    "    else:\n",
    "        print(\"\\n\\nLoop------->\"+str(loop)+\"\\n\")\n",
    "        print(\"Escolha uma opção válida!\")"
   ]
  }
 ],
 "metadata": {
  "kernelspec": {
   "display_name": "Python 3",
   "language": "python",
   "name": "python3"
  },
  "language_info": {
   "codemirror_mode": {
    "name": "ipython",
    "version": 3
   },
   "file_extension": ".py",
   "mimetype": "text/x-python",
   "name": "python",
   "nbconvert_exporter": "python",
   "pygments_lexer": "ipython3",
   "version": "3.6.8"
  }
 },
 "nbformat": 4,
 "nbformat_minor": 2
}
