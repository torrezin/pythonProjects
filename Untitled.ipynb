{
 "cells": [
  {
   "cell_type": "code",
   "execution_count": 23,
   "metadata": {},
   "outputs": [],
   "source": [
    "import dash\n",
    "import dash_core_components as dcc\n",
    "import dash_html_components as html\n",
    "import pandas as pd"
   ]
  },
  {
   "cell_type": "code",
   "execution_count": 24,
   "metadata": {},
   "outputs": [],
   "source": [
    "df = pd.read_csv('https://plotly.github.io/datasets/country_indicators.csv')\n",
    "df_ac = pd.read_csv('/home/wdnfywaa/Desktop/tiagoFDP/Dados-AC.csv')"
   ]
  },
  {
   "cell_type": "code",
   "execution_count": 3,
   "metadata": {},
   "outputs": [],
   "source": [
    "df_morteNeonatal_AC=df_ac[:]\n",
    "df_morteNeonatal_AC['year_death'] = df_morteNeonatal_AC['year_death'].astype('Int64')\n",
    "df_morteNeonatal_AC=df_morteNeonatal_AC[df_morteNeonatal_AC[\"morte_menor_28d\"] == 1]\n",
    "df_morteNeonatal_AC.loc[df_morteNeonatal_AC.n_sg_sexo == 'M','n_sg_sexo'] = 1\n",
    "df_morteNeonatal_AC.loc[df_morteNeonatal_AC.n_sg_sexo == 'F','n_sg_sexo'] = 2\n",
    "df_morteNeonatal_AC['n_sg_sexo']=df_morteNeonatal_AC['n_sg_sexo'].astype(int)\n",
    "\n",
    "df_morteNeonatal_AC.loc[df_morteNeonatal_AC.n_tp_raca_cor_mae == 1,'n_tp_raca_cor_mae'] = 'maes_brancas'\n",
    "df_morteNeonatal_AC.loc[df_morteNeonatal_AC.n_tp_raca_cor_mae == 2,'n_tp_raca_cor_mae'] = 'maes_negras'\n",
    "df_morteNeonatal_AC.loc[df_morteNeonatal_AC.n_tp_raca_cor_mae == 3,'n_tp_raca_cor_mae'] = 'maes_asiaticas'\n",
    "df_morteNeonatal_AC.loc[df_morteNeonatal_AC.n_tp_raca_cor_mae == 4,'n_tp_raca_cor_mae'] = 'maes_pardas'\n",
    "df_morteNeonatal_AC.loc[df_morteNeonatal_AC.n_tp_raca_cor_mae == 5,'n_tp_raca_cor_mae'] = 'maes_indigenas'\n",
    "\n",
    "df_morteNeonatal_AC.loc[df_morteNeonatal_AC.n_tp_ocorrencia == 1,'n_tp_ocorrencia'] = 'hospital'\n",
    "df_morteNeonatal_AC.loc[df_morteNeonatal_AC.n_tp_ocorrencia == 2,'n_tp_ocorrencia'] = 'other_health_establishment'\n",
    "df_morteNeonatal_AC.loc[df_morteNeonatal_AC.n_tp_ocorrencia == 3,'n_tp_ocorrencia'] = 'residence'\n",
    "df_morteNeonatal_AC.loc[df_morteNeonatal_AC.n_tp_ocorrencia == 4,'n_tp_ocorrencia'] = 'other'"
   ]
  },
  {
   "cell_type": "code",
   "execution_count": 19,
   "metadata": {},
   "outputs": [
    {
     "data": {
      "text/plain": [
       "18"
      ]
     },
     "execution_count": 19,
     "metadata": {},
     "output_type": "execute_result"
    }
   ],
   "source": [
    "available_indicators = df['Indicator Name'].unique()\n",
    "\n",
    "dff = df_ac[df_ac['year_death'] == 2006]\n",
    "\n",
    "dff.groupby('year_death')['year_death'].count().values[0]\n",
    "#dff\n"
   ]
  },
  {
   "cell_type": "code",
   "execution_count": 24,
   "metadata": {},
   "outputs": [
    {
     "data": {
      "text/plain": [
       "array([18, 21, 20, 14, 15, 13, 27, 72, 66, 62, 50])"
      ]
     },
     "execution_count": 24,
     "metadata": {},
     "output_type": "execute_result"
    }
   ],
   "source": [
    "ocor_anos=df_ac.groupby('year_death')['year_death'].count()\n",
    "ocor_anos.values"
   ]
  },
  {
   "cell_type": "code",
   "execution_count": 58,
   "metadata": {},
   "outputs": [
    {
     "data": {
      "text/html": [
       "<div>\n",
       "<style scoped>\n",
       "    .dataframe tbody tr th:only-of-type {\n",
       "        vertical-align: middle;\n",
       "    }\n",
       "\n",
       "    .dataframe tbody tr th {\n",
       "        vertical-align: top;\n",
       "    }\n",
       "\n",
       "    .dataframe thead th {\n",
       "        text-align: right;\n",
       "    }\n",
       "</style>\n",
       "<table border=\"1\" class=\"dataframe\">\n",
       "  <thead>\n",
       "    <tr style=\"text-align: right;\">\n",
       "      <th></th>\n",
       "      <th>id</th>\n",
       "      <th>n_tp_ocorrencia</th>\n",
       "      <th>n_co_municipio_ibge_ocorrencia</th>\n",
       "      <th>n_nu_idade</th>\n",
       "      <th>n_tp_estado_civil</th>\n",
       "      <th>n_tp_escolaridade</th>\n",
       "      <th>n_qt_nascidos_vivos</th>\n",
       "      <th>n_qt_nascidos_mortos</th>\n",
       "      <th>n_co_municipio_ibge_residencia</th>\n",
       "      <th>n_tp_gestacao</th>\n",
       "      <th>...</th>\n",
       "      <th>year_death</th>\n",
       "      <th>n_ct_peso</th>\n",
       "      <th>n_ct_idade</th>\n",
       "      <th>n_ct_nascidos_vivos</th>\n",
       "      <th>n_ct_nascidos_mortos</th>\n",
       "      <th>n_ct_gestacao_anterior</th>\n",
       "      <th>n_ct_parto_normal</th>\n",
       "      <th>n_ct_parto_cesaria</th>\n",
       "      <th>n_ct_apgar1</th>\n",
       "      <th>n_ct_apgar5</th>\n",
       "    </tr>\n",
       "  </thead>\n",
       "  <tbody>\n",
       "    <tr>\n",
       "      <th>30039</th>\n",
       "      <td>113169AC</td>\n",
       "      <td>hospital</td>\n",
       "      <td>120010</td>\n",
       "      <td>17</td>\n",
       "      <td>1</td>\n",
       "      <td>3</td>\n",
       "      <td>0</td>\n",
       "      <td>0</td>\n",
       "      <td>120025</td>\n",
       "      <td>2</td>\n",
       "      <td>...</td>\n",
       "      <td>2007</td>\n",
       "      <td>1</td>\n",
       "      <td>2</td>\n",
       "      <td>1</td>\n",
       "      <td>1</td>\n",
       "      <td>1</td>\n",
       "      <td>1</td>\n",
       "      <td>1</td>\n",
       "      <td>1</td>\n",
       "      <td>2</td>\n",
       "    </tr>\n",
       "  </tbody>\n",
       "</table>\n",
       "<p>1 rows × 51 columns</p>\n",
       "</div>"
      ],
      "text/plain": [
       "             id n_tp_ocorrencia  n_co_municipio_ibge_ocorrencia  n_nu_idade  \\\n",
       "30039  113169AC        hospital                          120010          17   \n",
       "\n",
       "       n_tp_estado_civil  n_tp_escolaridade  n_qt_nascidos_vivos  \\\n",
       "30039                  1                  3                    0   \n",
       "\n",
       "       n_qt_nascidos_mortos  n_co_municipio_ibge_residencia  n_tp_gestacao  \\\n",
       "30039                     0                          120025              2   \n",
       "\n",
       "       ...  year_death  n_ct_peso  n_ct_idade  n_ct_nascidos_vivos  \\\n",
       "30039  ...        2007          1           2                    1   \n",
       "\n",
       "       n_ct_nascidos_mortos  n_ct_gestacao_anterior  n_ct_parto_normal  \\\n",
       "30039                     1                       1                  1   \n",
       "\n",
       "       n_ct_parto_cesaria  n_ct_apgar1 n_ct_apgar5  \n",
       "30039                   1            1           2  \n",
       "\n",
       "[1 rows x 51 columns]"
      ]
     },
     "execution_count": 58,
     "metadata": {},
     "output_type": "execute_result"
    }
   ],
   "source": [
    "pes=df_morteNeonatal_AC[df_morteNeonatal_AC['year_death']==2007]\n",
    "pes=pes[pes['n_nu_peso']==1050]\n",
    "pes.head()"
   ]
  },
  {
   "cell_type": "code",
   "execution_count": null,
   "metadata": {},
   "outputs": [],
   "source": []
  },
  {
   "cell_type": "code",
   "execution_count": null,
   "metadata": {},
   "outputs": [],
   "source": []
  },
  {
   "cell_type": "code",
   "execution_count": null,
   "metadata": {},
   "outputs": [],
   "source": []
  },
  {
   "cell_type": "code",
   "execution_count": null,
   "metadata": {},
   "outputs": [],
   "source": []
  },
  {
   "cell_type": "code",
   "execution_count": null,
   "metadata": {},
   "outputs": [],
   "source": []
  },
  {
   "cell_type": "code",
   "execution_count": 12,
   "metadata": {},
   "outputs": [],
   "source": [
    "#ocor_anos"
   ]
  },
  {
   "cell_type": "code",
   "execution_count": null,
   "metadata": {},
   "outputs": [],
   "source": [
    "dff = df_ac[df_ac['year_death'] == year_value]\n",
    "x=dff[]"
   ]
  },
  {
   "cell_type": "code",
   "execution_count": 4,
   "metadata": {},
   "outputs": [],
   "source": [
    "#update_graph('maes_pardas','residence',2006)\n",
    "#create_time_series(df_ac,'linear','teste')"
   ]
  },
  {
   "cell_type": "code",
   "execution_count": 16,
   "metadata": {},
   "outputs": [],
   "source": [
    "def update_graph(xaxis_column_name, yaxis_column_name,year_value):\n",
    "    dff = df_morteNeonatal_AC[df_morteNeonatal_AC['year_death'] == year_value]\n",
    "\n",
    "    return {\n",
    "        'data': [dict(\n",
    "            x=dff[dff['n_tp_raca_cor_mae'] == xaxis_column_name]['n_tp_raca_cor_mae'],\n",
    "            y=dff[dff['n_tp_ocorrencia'] == yaxis_column_name]['n_tp_raca_cor_mae'],\n",
    "            text=dff[dff['n_tp_ocorrencia'] == yaxis_column_name]['n_tp_ocorrencia'],\n",
    "            customdata=dff[dff['n_tp_ocorrencia'] == yaxis_column_name]['n_tp_ocorrencia'],\n",
    "            mode='markers',\n",
    "            marker={\n",
    "                'size': 15,\n",
    "                'opacity': 0.5,\n",
    "                'line': {'width': 0.5, 'color': 'white'}\n",
    "            }\n",
    "        )],\n",
    "        'layout': dict(\n",
    "            xaxis={\n",
    "                'title': xaxis_column_name,\n",
    "                'type': 'linear'\n",
    "            },\n",
    "            yaxis={\n",
    "                'title': yaxis_column_name,\n",
    "                'type': 'linear'\n",
    "            },\n",
    "            margin={'l': 40, 'b': 30, 't': 10, 'r': 0},\n",
    "            height=450,\n",
    "            hovermode='closest'\n",
    "        )\n",
    "    }"
   ]
  },
  {
   "cell_type": "code",
   "execution_count": 28,
   "metadata": {},
   "outputs": [],
   "source": [
    "def create_time_series(dff, axis_type, title):\n",
    "    return {\n",
    "        'data': [dict(\n",
    "            x=ocor_anos.index,\n",
    "            y=ocor_anos.values,\n",
    "            mode='lines+markers'\n",
    "        )],\n",
    "        'layout': {\n",
    "            'height': 225,\n",
    "            'margin': {'l': 20, 'b': 30, 'r': 10, 't': 10},\n",
    "            'annotations': [{\n",
    "                'x': 0, 'y': 0.85, 'xanchor': 'left', 'yanchor': 'bottom',\n",
    "                'xref': 'paper', 'yref': 'paper', 'showarrow': False,\n",
    "                'align': 'left', 'bgcolor': 'rgba(255, 255, 255, 0.5)',\n",
    "                'text': title\n",
    "            }],\n",
    "            'yaxis': {'type': 'linear' if axis_type == 'Linear' else 'log'},\n",
    "            'xaxis': {'showgrid': False}\n",
    "        }\n",
    "    }\n"
   ]
  },
  {
   "cell_type": "code",
   "execution_count": 50,
   "metadata": {},
   "outputs": [
    {
     "data": {
      "text/plain": [
       "array([1550, 2080, 3820, 2685, 4265, 2700, 1010, 1100, 1400, 1560, 3055,\n",
       "        915, 2235, 3155, 2505, 3380, 1450, 3700, 1050, 2100, 2000, 3110,\n",
       "       1335, 3510, 1005, 3340, 2225, 2975, 3090, 3420, 1020, 3085, 2900,\n",
       "       2990, 2750, 3100, 1350, 2800, 2250, 2500, 3500, 4150, 2660, 2830,\n",
       "       4250, 2600, 1930, 1800, 4240, 1500, 1600, 3250, 2025, 2120, 4000,\n",
       "       2950, 1670,  480, 1000, 1200,  750,  500,  600,  790,  400, 2850,\n",
       "       3320, 2470, 2400, 1700,  340, 3000, 2745, 3560, 3750,  800, 3540,\n",
       "       4070,  470, 1730, 2760,  950, 3900, 3710, 1250, 3390, 3720, 2450,\n",
       "       2150, 1035, 1945, 1030, 1880, 1300, 4650, 1665,  650, 1900, 1870,\n",
       "       1740, 3254, 1240, 1580,  556,  760, 1307, 1742,  458, 3335,  645,\n",
       "       2300,  630, 3480, 4300, 1470,  535, 2622,  660, 1310, 2180, 2230,\n",
       "       1655, 1420, 2788,  700, 1255,  598,  695,  550, 1060, 1280, 2652,\n",
       "        690, 1596, 2564,  705,  860, 1264,  522,  692,  490, 3300, 1770,\n",
       "       2680, 1292,  708, 1660, 1720,  891,  909, 2765,  678, 3425, 3345,\n",
       "       3665, 2115,  562,  604,  585, 1354, 1385, 1645,  530, 1079, 1003,\n",
       "       2686,  830, 2585, 1760,  614,  820, 3298,  725, 2804,  818,  810,\n",
       "       3740, 1970,  773,  508, 2968, 2410,  896,  720, 2240, 1910, 3366,\n",
       "       2645, 1392, 3065,  734, 3610,  807, 1388, 3290, 3310, 4236, 2870,\n",
       "        570, 1578, 2285, 3160, 3600, 4900, 3350, 4550, 2280, 3520, 3222,\n",
       "       2630, 3526, 3365, 2270, 3150, 3450, 3200, 2495,  770, 2860, 1690,\n",
       "       3574, 1316, 3525, 2290, 2580, 1376, 2375, 1126, 4476, 1412, 1285,\n",
       "        930, 3705,  560,  970, 2886, 2008,  880, 3330, 1510, 1155, 2964,\n",
       "       2540, 3650, 2610, 1220, 3176, 1230,  805, 1525,  780, 1260, 2752,\n",
       "       2785,  730, 2710, 1068, 2245, 1590,  610, 1110, 4084, 1908, 5500,\n",
       "       2970, 1860, 3850, 3220, 2160, 2044, 1342, 2195, 1750, 2805,  622,\n",
       "       1950])"
      ]
     },
     "execution_count": 50,
     "metadata": {},
     "output_type": "execute_result"
    }
   ],
   "source": [
    "dff=df[:]\n",
    "#dff\n",
    "\n",
    "x=dff[dff['Indicator Name'] == 'Industry, value added (% of GDP)']\n",
    "x=x[x['Value']>0]\n",
    "\n",
    "#dff\n",
    "\n",
    "\n",
    "available_indicators_peso = df_morteNeonatal_AC['n_nu_peso'].unique()\n",
    "#available_indicators_peso\n",
    "#dff['Year']\n",
    "#dff = df['Year']\n",
    "#dff.groupby('Year')['Year'].count()\n"
   ]
  },
  {
   "cell_type": "code",
   "execution_count": 37,
   "metadata": {},
   "outputs": [
    {
     "data": {
      "text/html": [
       "<div>\n",
       "<style scoped>\n",
       "    .dataframe tbody tr th:only-of-type {\n",
       "        vertical-align: middle;\n",
       "    }\n",
       "\n",
       "    .dataframe tbody tr th {\n",
       "        vertical-align: top;\n",
       "    }\n",
       "\n",
       "    .dataframe thead th {\n",
       "        text-align: right;\n",
       "    }\n",
       "</style>\n",
       "<table border=\"1\" class=\"dataframe\">\n",
       "  <thead>\n",
       "    <tr style=\"text-align: right;\">\n",
       "      <th></th>\n",
       "      <th>Country Name</th>\n",
       "      <th>Indicator Name</th>\n",
       "      <th>Year</th>\n",
       "      <th>Value</th>\n",
       "    </tr>\n",
       "  </thead>\n",
       "  <tbody>\n",
       "    <tr>\n",
       "      <th>1</th>\n",
       "      <td>Arab World</td>\n",
       "      <td>CO2 emissions (metric tons per capita)</td>\n",
       "      <td>1962</td>\n",
       "      <td>0.760996</td>\n",
       "    </tr>\n",
       "    <tr>\n",
       "      <th>15</th>\n",
       "      <td>Caribbean small states</td>\n",
       "      <td>CO2 emissions (metric tons per capita)</td>\n",
       "      <td>1962</td>\n",
       "      <td>2.703875</td>\n",
       "    </tr>\n",
       "    <tr>\n",
       "      <th>29</th>\n",
       "      <td>Central Europe and the Baltics</td>\n",
       "      <td>CO2 emissions (metric tons per capita)</td>\n",
       "      <td>1962</td>\n",
       "      <td>5.673987</td>\n",
       "    </tr>\n",
       "    <tr>\n",
       "      <th>43</th>\n",
       "      <td>Early-demographic dividend</td>\n",
       "      <td>CO2 emissions (metric tons per capita)</td>\n",
       "      <td>1962</td>\n",
       "      <td>0.623761</td>\n",
       "    </tr>\n",
       "    <tr>\n",
       "      <th>57</th>\n",
       "      <td>East Asia &amp; Pacific</td>\n",
       "      <td>CO2 emissions (metric tons per capita)</td>\n",
       "      <td>1962</td>\n",
       "      <td>0.894871</td>\n",
       "    </tr>\n",
       "    <tr>\n",
       "      <th>...</th>\n",
       "      <td>...</td>\n",
       "      <td>...</td>\n",
       "      <td>...</td>\n",
       "      <td>...</td>\n",
       "    </tr>\n",
       "    <tr>\n",
       "      <th>36891</th>\n",
       "      <td>Virgin Islands</td>\n",
       "      <td>CO2 emissions (metric tons per capita)</td>\n",
       "      <td>2007</td>\n",
       "      <td>NaN</td>\n",
       "    </tr>\n",
       "    <tr>\n",
       "      <th>36905</th>\n",
       "      <td>West Bank and Gaza</td>\n",
       "      <td>CO2 emissions (metric tons per capita)</td>\n",
       "      <td>2007</td>\n",
       "      <td>0.665297</td>\n",
       "    </tr>\n",
       "    <tr>\n",
       "      <th>36919</th>\n",
       "      <td>Yemen, Rep.</td>\n",
       "      <td>CO2 emissions (metric tons per capita)</td>\n",
       "      <td>2007</td>\n",
       "      <td>0.966383</td>\n",
       "    </tr>\n",
       "    <tr>\n",
       "      <th>36933</th>\n",
       "      <td>Zambia</td>\n",
       "      <td>CO2 emissions (metric tons per capita)</td>\n",
       "      <td>2007</td>\n",
       "      <td>0.139614</td>\n",
       "    </tr>\n",
       "    <tr>\n",
       "      <th>36947</th>\n",
       "      <td>Zimbabwe</td>\n",
       "      <td>CO2 emissions (metric tons per capita)</td>\n",
       "      <td>2007</td>\n",
       "      <td>0.743449</td>\n",
       "    </tr>\n",
       "  </tbody>\n",
       "</table>\n",
       "<p>2640 rows × 4 columns</p>\n",
       "</div>"
      ],
      "text/plain": [
       "                         Country Name                          Indicator Name  \\\n",
       "1                          Arab World  CO2 emissions (metric tons per capita)   \n",
       "15             Caribbean small states  CO2 emissions (metric tons per capita)   \n",
       "29     Central Europe and the Baltics  CO2 emissions (metric tons per capita)   \n",
       "43         Early-demographic dividend  CO2 emissions (metric tons per capita)   \n",
       "57                East Asia & Pacific  CO2 emissions (metric tons per capita)   \n",
       "...                               ...                                     ...   \n",
       "36891                  Virgin Islands  CO2 emissions (metric tons per capita)   \n",
       "36905              West Bank and Gaza  CO2 emissions (metric tons per capita)   \n",
       "36919                     Yemen, Rep.  CO2 emissions (metric tons per capita)   \n",
       "36933                          Zambia  CO2 emissions (metric tons per capita)   \n",
       "36947                        Zimbabwe  CO2 emissions (metric tons per capita)   \n",
       "\n",
       "       Year     Value  \n",
       "1      1962  0.760996  \n",
       "15     1962  2.703875  \n",
       "29     1962  5.673987  \n",
       "43     1962  0.623761  \n",
       "57     1962  0.894871  \n",
       "...     ...       ...  \n",
       "36891  2007       NaN  \n",
       "36905  2007  0.665297  \n",
       "36919  2007  0.966383  \n",
       "36933  2007  0.139614  \n",
       "36947  2007  0.743449  \n",
       "\n",
       "[2640 rows x 4 columns]"
      ]
     },
     "execution_count": 37,
     "metadata": {},
     "output_type": "execute_result"
    }
   ],
   "source": [
    "dff[dff['Indicator Name']=='CO2 emissions (metric tons per capita)']"
   ]
  }
 ],
 "metadata": {
  "kernelspec": {
   "display_name": "Python 3",
   "language": "python",
   "name": "python3"
  },
  "language_info": {
   "codemirror_mode": {
    "name": "ipython",
    "version": 3
   },
   "file_extension": ".py",
   "mimetype": "text/x-python",
   "name": "python",
   "nbconvert_exporter": "python",
   "pygments_lexer": "ipython3",
   "version": "3.6.9"
  }
 },
 "nbformat": 4,
 "nbformat_minor": 2
}
